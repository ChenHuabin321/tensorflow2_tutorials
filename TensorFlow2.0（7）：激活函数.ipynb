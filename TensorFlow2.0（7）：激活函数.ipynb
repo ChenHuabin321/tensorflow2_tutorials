{
 "cells": [
  {
   "cell_type": "markdown",
   "metadata": {},
   "source": [
    "# 1 什么是激活函数"
   ]
  },
  {
   "cell_type": "markdown",
   "metadata": {},
   "source": [
    "激活函数是深度学习，亦或者说人工神经网络中一个十分重要的组成部分，它可以对神经元的接收信息进行非线性变换，将变换后的信息输出到下一层神经元。激活函数作用方式如下公式所示："
   ]
  },
  {
   "cell_type": "markdown",
   "metadata": {},
   "source": [
    "$$y = Activation(\\sum\\limits_i^N {{w_i} \\cdot {x_i} + b} )$$"
   ]
  },
  {
   "cell_type": "markdown",
   "metadata": {},
   "source": [
    "其中，$Activation()$就是激活函数。"
   ]
  },
  {
   "cell_type": "markdown",
   "metadata": {},
   "source": [
    "为什么要使用激活函数呢？当我们不用激活函数时，网络中各层只会根据权重$w$和偏差$b$只会进行线性变换，就算有多层网络，也只是相当于多个线性方程的组合，依然只是相当于一个线性回归模型，解决复杂问题的能力有限。我们希望我们的神经网络能够处理复杂任务，如语言翻译和图像分类等，线性变换永远无法执行这样的任务。激活函数得加入能对输入进行非线性变换，使其能够学习和执行更复杂的任务。\n",
    "\n",
    "另外，激活函数使反向传播成为可能，因为激活函数的误差梯度可以用来调整权重和偏差。如果没有可微的非线性函数，这就不可能实现。\n",
    "\n",
    "总之，激活函数的作用是能够给神经网络加入一些非线性因素，使得神经网络可以更好地解决较为复杂的问题。"
   ]
  },
  {
   "cell_type": "markdown",
   "metadata": {},
   "source": [
    "# 2 常用激活函数\n",
    "# 2.1 sigmoid函数"
   ]
  },
  {
   "cell_type": "markdown",
   "metadata": {},
   "source": [
    "sigmoid函数可以将整个实数范围的的任意值映射到[0,1]范围内，当当输入值较大时,sigmoid将返回一个接近于1的值,而当输入值较小时,返回值将接近于0。sigmoid函数数学公式和函数图像如下所示："
   ]
  },
  {
   "cell_type": "markdown",
   "metadata": {},
   "source": [
    "$$f(x) = \\frac{1}{{1 + {e^{ - x}}}}$$"
   ]
  },
  {
   "cell_type": "markdown",
   "metadata": {},
   "source": [
    "![image](data:image/png;base64,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)"
   ]
  },
  {
   "cell_type": "markdown",
   "metadata": {},
   "source": [
    "感受一下TensorFlow中的sigmoid函数："
   ]
  },
  {
   "cell_type": "code",
   "execution_count": 1,
   "metadata": {},
   "outputs": [
    {
     "data": {
      "text/plain": [
       "<tf.Tensor: id=3, shape=(6,), dtype=float32, numpy=array([-5., -3., -1.,  1.,  3.,  5.], dtype=float32)>"
      ]
     },
     "execution_count": 1,
     "metadata": {},
     "output_type": "execute_result"
    }
   ],
   "source": [
    "import tensorflow as tf\n",
    "x = tf.linspace(-5., 5.,6)\n",
    "x"
   ]
  },
  {
   "cell_type": "markdown",
   "metadata": {},
   "source": [
    "有两种方式可以调用sigmoid函数："
   ]
  },
  {
   "cell_type": "code",
   "execution_count": 2,
   "metadata": {
    "scrolled": false
   },
   "outputs": [
    {
     "data": {
      "text/plain": [
       "<tf.Tensor: id=4, shape=(6,), dtype=float32, numpy=\n",
       "array([0.00669285, 0.04742587, 0.26894143, 0.7310586 , 0.95257413,\n",
       "       0.9933072 ], dtype=float32)>"
      ]
     },
     "execution_count": 2,
     "metadata": {},
     "output_type": "execute_result"
    }
   ],
   "source": [
    "tf.keras.activations.sigmoid(x)"
   ]
  },
  {
   "cell_type": "code",
   "execution_count": 3,
   "metadata": {},
   "outputs": [
    {
     "data": {
      "text/plain": [
       "<tf.Tensor: id=5, shape=(6,), dtype=float32, numpy=\n",
       "array([0.00669285, 0.04742587, 0.26894143, 0.7310586 , 0.95257413,\n",
       "       0.9933072 ], dtype=float32)>"
      ]
     },
     "execution_count": 3,
     "metadata": {},
     "output_type": "execute_result"
    }
   ],
   "source": [
    "tf.sigmoid(x)"
   ]
  },
  {
   "cell_type": "markdown",
   "metadata": {},
   "source": [
    "看，$x$中所有值都映射到了[0,1]范围内。"
   ]
  },
  {
   "cell_type": "markdown",
   "metadata": {},
   "source": [
    "sigmoid优缺点总结：\n",
    "- 优点：输出的映射区间(0,1)内单调连续，非常适合用作输出层，并且比较容易求导。\n",
    "\n",
    "- 缺点：具有软饱和性，即当输入x趋向于无穷的时候，它的导数会趋于0，导致很容易产生梯度消失。"
   ]
  },
  {
   "cell_type": "markdown",
   "metadata": {},
   "source": [
    "# 2.2 relu函数"
   ]
  },
  {
   "cell_type": "markdown",
   "metadata": {},
   "source": [
    "Relu（Rectified Linear Units修正线性单元），是目前被使用最为频繁得激活函数，relu函数在x<0时，输出始终为0。由于x>0时，relu函数的导数为1，即保持输出为x，所以relu函数能够在x>0时保持梯度不断衰减，从而缓解梯度消失的问题，还能加快收敛速度，还能是神经网络具有稀疏性表达能力，这也是relu激活函数能够被使用在深层神经网络中的原因。由于当x<0时，relu函数的导数为0，导致对应的权重无法更新，这样的神经元被称为\"神经元死亡\"。\n",
    "\n",
    "relu函数公式和图像如下："
   ]
  },
  {
   "cell_type": "markdown",
   "metadata": {},
   "source": [
    "$$f(x) = \\max (0,x)$$"
   ]
  },
  {
   "cell_type": "markdown",
   "metadata": {},
   "source": [
    "![image](data:image/png;base64,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)"
   ]
  },
  {
   "cell_type": "markdown",
   "metadata": {},
   "source": [
    "在TensorFlow中，relu函数的参数情况比sigmoid复杂，我们先来看一下："
   ]
  },
  {
   "cell_type": "markdown",
   "metadata": {},
   "source": [
    "tf.keras.activations.relu( x, alpha=0.0, max_value=None, threshold=0 )  \n",
    "- x：输入的变量\n",
    "- alpha：上图中左半边部分图像的斜率，也就是x值为负数（准确说应该是小于threshold）部分的斜率，默认为0\n",
    "- max_value：最大值，当x大于max_value时，输出值为max_value\n",
    "- threshold：起始点，也就是上面图中拐点处x轴的值"
   ]
  },
  {
   "cell_type": "code",
   "execution_count": 4,
   "metadata": {},
   "outputs": [
    {
     "data": {
      "text/plain": [
       "<tf.Tensor: id=9, shape=(6,), dtype=float32, numpy=array([-5., -3., -1.,  1.,  3.,  5.], dtype=float32)>"
      ]
     },
     "execution_count": 4,
     "metadata": {},
     "output_type": "execute_result"
    }
   ],
   "source": [
    "x = tf.linspace(-5., 5.,6)\n",
    "x"
   ]
  },
  {
   "cell_type": "code",
   "execution_count": 5,
   "metadata": {},
   "outputs": [
    {
     "data": {
      "text/plain": [
       "<tf.Tensor: id=10, shape=(6,), dtype=float32, numpy=array([0., 0., 0., 1., 3., 5.], dtype=float32)>"
      ]
     },
     "execution_count": 5,
     "metadata": {},
     "output_type": "execute_result"
    }
   ],
   "source": [
    "tf.keras.activations.relu(x)"
   ]
  },
  {
   "cell_type": "code",
   "execution_count": 6,
   "metadata": {},
   "outputs": [
    {
     "data": {
      "text/plain": [
       "<tf.Tensor: id=11, shape=(6,), dtype=float32, numpy=array([-10.,  -6.,  -2.,   1.,   3.,   5.], dtype=float32)>"
      ]
     },
     "execution_count": 6,
     "metadata": {},
     "output_type": "execute_result"
    }
   ],
   "source": [
    "tf.keras.activations.relu(x,alpha=2.)"
   ]
  },
  {
   "cell_type": "code",
   "execution_count": 7,
   "metadata": {},
   "outputs": [
    {
     "data": {
      "text/plain": [
       "<tf.Tensor: id=16, shape=(6,), dtype=float32, numpy=array([0., 0., 0., 1., 2., 2.], dtype=float32)>"
      ]
     },
     "execution_count": 7,
     "metadata": {},
     "output_type": "execute_result"
    }
   ],
   "source": [
    "tf.keras.activations.relu(x,max_value=2.)  # 大于2部分都将输出为2."
   ]
  },
  {
   "cell_type": "code",
   "execution_count": 8,
   "metadata": {},
   "outputs": [
    {
     "data": {
      "text/plain": [
       "<tf.Tensor: id=27, shape=(6,), dtype=float32, numpy=array([-17., -13.,  -9.,  -5.,  -1.,   5.], dtype=float32)>"
      ]
     },
     "execution_count": 8,
     "metadata": {},
     "output_type": "execute_result"
    }
   ],
   "source": [
    "tf.keras.activations.relu(x,alpha=2., threshold=3.5)  # 小于3.5的值按照alpha * (x - threshold)计算"
   ]
  },
  {
   "cell_type": "markdown",
   "metadata": {},
   "source": [
    "# 2.3 softmax函数"
   ]
  },
  {
   "cell_type": "markdown",
   "metadata": {},
   "source": [
    "softmax函数是sigmoid函数的进化，在处理分类问题是很方便，它可以将所有输出映射到成概率的形式，即值在[0,1]范围且总和为1。例如输出变量为[1.5,4.4,2.0]，经过softmax函数激活后，输出为[0.04802413, 0.87279755, 0.0791784 ],分别对应属于1、2、3类的概率。softmax函数数学公式如下："
   ]
  },
  {
   "cell_type": "markdown",
   "metadata": {},
   "source": [
    "$$f({x_i}) = \\frac{{{e^{{x_i}}}}}{{\\sum\\limits_i {{e^{{x_i}}}} }}$$"
   ]
  },
  {
   "cell_type": "code",
   "execution_count": 9,
   "metadata": {},
   "outputs": [
    {
     "data": {
      "text/plain": [
       "<tf.Tensor: id=29, shape=(1, 3), dtype=float32, numpy=array([[0.04802413, 0.87279755, 0.0791784 ]], dtype=float32)>"
      ]
     },
     "execution_count": 9,
     "metadata": {},
     "output_type": "execute_result"
    }
   ],
   "source": [
    "tf.nn.softmax(tf.constant([[1.5,4.4,2.0]]))"
   ]
  },
  {
   "cell_type": "code",
   "execution_count": 10,
   "metadata": {
    "scrolled": true
   },
   "outputs": [
    {
     "data": {
      "text/plain": [
       "<tf.Tensor: id=31, shape=(1, 3), dtype=float32, numpy=array([[0.04802413, 0.87279755, 0.0791784 ]], dtype=float32)>"
      ]
     },
     "execution_count": 10,
     "metadata": {},
     "output_type": "execute_result"
    }
   ],
   "source": [
    "tf.keras.activations.softmax(tf.constant([[1.5,4.4,2.0]]))"
   ]
  },
  {
   "cell_type": "code",
   "execution_count": 11,
   "metadata": {},
   "outputs": [
    {
     "data": {
      "text/plain": [
       "<tf.Tensor: id=38, shape=(1, 5), dtype=float32, numpy=\n",
       "array([[ 1.9715171 ,  0.49954653, -0.37836075,  1.6178164 ,  0.80509186]],\n",
       "      dtype=float32)>"
      ]
     },
     "execution_count": 11,
     "metadata": {},
     "output_type": "execute_result"
    }
   ],
   "source": [
    "x = tf.random.uniform([1,5],minval=-2,maxval=2)\n",
    "x"
   ]
  },
  {
   "cell_type": "code",
   "execution_count": 12,
   "metadata": {},
   "outputs": [
    {
     "data": {
      "text/plain": [
       "<tf.Tensor: id=39, shape=(1, 5), dtype=float32, numpy=\n",
       "array([[0.42763966, 0.09813169, 0.04078862, 0.30023944, 0.13320053]],\n",
       "      dtype=float32)>"
      ]
     },
     "execution_count": 12,
     "metadata": {},
     "output_type": "execute_result"
    }
   ],
   "source": [
    "tf.keras.activations.softmax(x)"
   ]
  },
  {
   "cell_type": "markdown",
   "metadata": {},
   "source": [
    "# 2.4 tanh函数"
   ]
  },
  {
   "cell_type": "markdown",
   "metadata": {},
   "source": [
    "tanh函数无论是功能还是函数图像上斗鱼sigmoid函数十分相似，所以两者的优缺点也一样，区别在于tanh函数将值映射到[-1,1]范围，其数学公式和函数图像如下："
   ]
  },
  {
   "cell_type": "markdown",
   "metadata": {},
   "source": [
    "$$f(x) = \\frac{{\\sinh x}}{{\\cosh x}} = \\frac{{1 - {e^{ - 2x}}}}{{1 + {e^{ - 2x}}}}$$"
   ]
  },
  {
   "cell_type": "markdown",
   "metadata": {},
   "source": [
    "![image](data:image/png;base64,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)"
   ]
  },
  {
   "cell_type": "code",
   "execution_count": 13,
   "metadata": {},
   "outputs": [
    {
     "data": {
      "text/plain": [
       "<tf.Tensor: id=43, shape=(6,), dtype=float32, numpy=array([-5., -3., -1.,  1.,  3.,  5.], dtype=float32)>"
      ]
     },
     "execution_count": 13,
     "metadata": {},
     "output_type": "execute_result"
    }
   ],
   "source": [
    "x = tf.linspace(-5., 5.,6)\n",
    "x"
   ]
  },
  {
   "cell_type": "code",
   "execution_count": 14,
   "metadata": {},
   "outputs": [
    {
     "data": {
      "text/plain": [
       "<tf.Tensor: id=44, shape=(6,), dtype=float32, numpy=\n",
       "array([-0.99990916, -0.9950547 , -0.7615942 ,  0.7615942 ,  0.9950547 ,\n",
       "        0.99990916], dtype=float32)>"
      ]
     },
     "execution_count": 14,
     "metadata": {},
     "output_type": "execute_result"
    }
   ],
   "source": [
    "tf.keras.activations.tanh(x)"
   ]
  },
  {
   "cell_type": "markdown",
   "metadata": {},
   "source": [
    "# 3 总结"
   ]
  },
  {
   "cell_type": "markdown",
   "metadata": {},
   "source": [
    "神经网络中，隐藏层之间的输出大多需要通过激活函数来映射（当然，也可以不用，没有使用激活函数的层一般称为logits层），在构建模型是，需要根据实际数据情况选择激活函数。TensorFlow中的激活函数可不止这4个，本文只是介绍最常用的4个，当然，其他激活函数大多是这几个激活函数的变种。"
   ]
  }
 ],
 "metadata": {
  "kernelspec": {
   "display_name": "tensorflow_gpu",
   "language": "python",
   "name": "tensorflow_gpu"
  },
  "language_info": {
   "codemirror_mode": {
    "name": "ipython",
    "version": 3
   },
   "file_extension": ".py",
   "mimetype": "text/x-python",
   "name": "python",
   "nbconvert_exporter": "python",
   "pygments_lexer": "ipython3",
   "version": "3.7.4"
  }
 },
 "nbformat": 4,
 "nbformat_minor": 2
}
